{
  "nbformat": 4,
  "nbformat_minor": 0,
  "metadata": {
    "colab": {
      "provenance": [],
      "authorship_tag": "ABX9TyNSZCPVcC4YV6AjvhW+kwLO",
      "include_colab_link": true
    },
    "kernelspec": {
      "name": "python3",
      "display_name": "Python 3"
    },
    "language_info": {
      "name": "python"
    }
  },
  "cells": [
    {
      "cell_type": "markdown",
      "metadata": {
        "id": "view-in-github",
        "colab_type": "text"
      },
      "source": [
        "<a href=\"https://colab.research.google.com/github/dariocostta/Metodos-Numericos-I/blob/master/Unid-3-Autovetores-e-Autovalores/Tarefa_12_MN2_Transf_Similaridade_HouseHolder_e_QR.ipynb\" target=\"_parent\"><img src=\"https://colab.research.google.com/assets/colab-badge.svg\" alt=\"Open In Colab\"/></a>"
      ]
    },
    {
      "cell_type": "markdown",
      "source": [
        "### Métodos Numéricos II (2023.1 - T02)\n",
        "- Aluno: Dario Filipe da Silva Costa\n",
        "- Matrícula: 422156\n",
        "- Email: dariocosta@alu.ufc.br"
      ],
      "metadata": {
        "id": "3jZW0Ghx2jKb"
      }
    },
    {
      "cell_type": "code",
      "execution_count": 79,
      "metadata": {
        "id": "bSbpcWxA1ImW"
      },
      "outputs": [],
      "source": [
        "import numpy as np\n",
        "import matplotlib.pyplot as plt\n",
        "from tabulate import tabulate\n",
        "from IPython.display import display, Latex"
      ]
    },
    {
      "cell_type": "markdown",
      "source": [
        "# Métodos anteriores: "
      ],
      "metadata": {
        "id": "f4obdmug6sDT"
      }
    },
    {
      "cell_type": "markdown",
      "source": [
        "## Tarefa 10: Potência Regular"
      ],
      "metadata": {
        "id": "2BqTvf_s8T-y"
      }
    },
    {
      "cell_type": "code",
      "source": [
        "def potReg(A:np.ndarray, v0:np.ndarray, e:float=1e-7,\n",
        "           iterMax=1e5) -> tuple[np.ndarray, float]:\n",
        "  '''\n",
        "  Supõe v0 um vetor coluna e A uma matriz.\n",
        "\n",
        "  PARAMETROS:\n",
        "  - - - - -\n",
        "  A  : ndarray - Matriz do problema\n",
        "  v0 : ndarray - Chute inicial do autovetor x_1 (vetor coluna)\n",
        "  '''\n",
        "  v=v0.copy()\n",
        "  lamb = 0\n",
        "\n",
        "  iter = 0 #Contador de iterações\n",
        "  while iter<=iterMax:\n",
        "    v_old=v.copy()\n",
        "    lamb_old = lamb\n",
        "    v_old=(v_old)/((v_old.T@v_old)**0.5)\n",
        "    v = A@v_old\n",
        "    lamb = v_old.T@v\n",
        "    iter+=1\n",
        "\n",
        "    if abs((lamb - lamb_old)/lamb) < e: #Teste de parada\n",
        "      break\n",
        "\n",
        "  if iter > iterMax:\n",
        "    print(\"As iterações superaram o máximo estipulado, chance de não ter convergido.\")\n",
        "\n",
        "  return v/v[-1], lamb"
      ],
      "metadata": {
        "id": "Q0mtjXTU8u0q"
      },
      "execution_count": 80,
      "outputs": []
    },
    {
      "cell_type": "markdown",
      "source": [
        "## Tarefa 11: Potência Inversa e Deslocada\n"
      ],
      "metadata": {
        "id": "s4L7jHhP81nY"
      }
    },
    {
      "cell_type": "code",
      "source": [
        "def decompLU(A: np.ndarray)-> tuple[np.ndarray, np.ndarray]:\n",
        "  '''\n",
        "  Recebe A e devolve a decomposição em LU=A\n",
        "  L= Lower Triag. e U = Upper Triag.\n",
        "  '''\n",
        "  n = len(A)\n",
        "  L = np.zeros((n, n))\n",
        "  U = np.zeros((n, n))\n",
        "  for c in range(n):\n",
        "    for l in range(c+1):\n",
        "      sr = sum(L[l][k]*U[k][c] for k in range(l)) if l>0 else 0\n",
        "      U[l][c] = A[l][c] - sr\n",
        "\n",
        "    for l in range(c, n):\n",
        "      sr=sum(L[l][k]*U[k][c] for k in range(c)) if c>0 else 0\n",
        "      L[l][c] = (A[l][c]-sr)/U[c][c]\n",
        "\n",
        "  return L, U\n",
        "\n",
        "def solverLU(L: np.ndarray, U:np.ndarray, b:np.ndarray)->np.ndarray:\n",
        "  ''' Devolve x que é solução do sistema LUx=b\n",
        "  '''\n",
        "  n = len(L)\n",
        "  x = np.zeros(n)\n",
        "  y = np.zeros(n)\n",
        "  for i in range(n):\n",
        "    r = sum(L[i][k]*y[k] for k in range(i)) if i>0 else 0\n",
        "    y[i] = (b[i]-r)/L[i][i]\n",
        "  for i in range(n-1, -1, -1):\n",
        "    r = sum(U[i][k]*x[k] for k in range(i+1, n)) if i<n-1 else 0\n",
        "    x[i] = (y[i]-r)/U[i][i]\n",
        "  return x\n",
        "\n",
        "def potInv(A:np.ndarray, v0:np.ndarray, e:float=1e-7,\n",
        "           iterMax=1e5) -> tuple[np.ndarray, float]:\n",
        "  '''\n",
        "  Supõe v0 um vetor coluna e A uma matriz.\n",
        "\n",
        "  PARAMETROS:\n",
        "  - - - - -\n",
        "  A  : ndarray - Matriz do problema\n",
        "  v0 : ndarray - Chute inicial do autovetor x_n (vetor coluna)\n",
        "  '''\n",
        "  v=v0.copy()\n",
        "  lamb = 0\n",
        "  # Obtendo a L e U <----\n",
        "  L, U = decompLU(A)\n",
        "\n",
        "  iter = 0 #Contador de iterações\n",
        "  while iter<=iterMax:\n",
        "    v_old=v.copy()\n",
        "    lamb_old = lamb\n",
        "    v_old=(v_old)/((v_old.T@v_old)**0.5)\n",
        "    v = solverLU(L, U, v_old) #<-- Obtendo A^-1v_old=v_new pela\n",
        "                              # solucao do sistema v_old=Av_new\n",
        "    lamb = v_old.T@v\n",
        "\n",
        "    iter+=1\n",
        "    if abs((lamb - lamb_old)/lamb) < e: #Teste de parada\n",
        "      break   \n",
        "  \n",
        "  if iter > iterMax:\n",
        "    print(\"As iterações superaram o máximo estipulado, chance de não ter convergido.\")\n",
        "\n",
        "  return v/v[-1], 1/lamb"
      ],
      "metadata": {
        "id": "TlF6Wvfc87Lz"
      },
      "execution_count": 81,
      "outputs": []
    },
    {
      "cell_type": "markdown",
      "source": [
        "## Deslocada"
      ],
      "metadata": {
        "id": "ykcU257Y9P3w"
      }
    },
    {
      "cell_type": "code",
      "source": [
        "def potDesloc(A:np.ndarray, v0:np.ndarray, u:float, e=1e-7)->tuple[np.ndarray, float]:\n",
        "  I=np.identity(len(A))\n",
        "  Abar = A-u*I\n",
        "  v, lamb = potInv(Abar, v0, e)\n",
        "  return v, lamb+u"
      ],
      "metadata": {
        "id": "GeT-sXZk9TNX"
      },
      "execution_count": 82,
      "outputs": []
    },
    {
      "cell_type": "markdown",
      "source": [
        "## tryAll()\n",
        "\n",
        "Essa função calcula os dois extremos autovalores e autovetores usando as `potReg` e `potInv` e então usa a `potDesloc` para encontrar os internos.\n",
        "Ela discretiza dentro dos intervalos entre cada autovalor já encontrado, tentativas de $\\mu$."
      ],
      "metadata": {
        "id": "Uu8vccqq9aoa"
      }
    },
    {
      "cell_type": "code",
      "source": [
        "def tryAll(A:np.ndarray, e=1e-7, iterMax=1e2)->dict:\n",
        "  n=len(A)\n",
        "  resp={}\n",
        "  v = np.ones(n)\n",
        "\n",
        "  x1, lamb1=potReg(A, v, e)\n",
        "  xn, lambn=potInv(A, v, e)\n",
        "\n",
        "  resp[lambn]=[xn, lambn]\n",
        "  resp[lamb1]=[x1, lamb1]\n",
        "  \n",
        "  k=2\n",
        "  iter = 2 # comeca em 2 pois vou usar no numero de divisões do intervalo\n",
        "  while iter<iterMax and len(resp)<n:\n",
        "    ks = list(sorted(resp.keys()))\n",
        "\n",
        "    for i in range(len(ks)-1):\n",
        "      #dividir o intervalo entre os autovalores já encontrados em iter partes\n",
        "      us=[ks[i]+((ks[i+1]-ks[i])/iter)*k for k in range(1, iter)]\n",
        "\n",
        "      for j in range(len(us)):\n",
        "        xnew, lambnew = potDesloc(A, v, us[j], e)\n",
        "      \n",
        "        new = True\n",
        "        for test in resp.keys():\n",
        "          if abs(lambnew-test) < e: #Testando se ele já esta na lista\n",
        "            new = False\n",
        "        if new:\n",
        "          resp[lambnew]=[xnew, lambnew] #adiconando o novo encontrado\n",
        "\n",
        "  keys = list(sorted(resp.keys(), key=abs, reverse=True)) #organizando\n",
        "  r = {k: resp[k]  for k in keys}\n",
        "  return r"
      ],
      "metadata": {
        "id": "iYry4Hwn9Z5H"
      },
      "execution_count": 83,
      "outputs": []
    },
    {
      "cell_type": "markdown",
      "source": [
        "# Tarefa 12: Householder e QR"
      ],
      "metadata": {
        "id": "fJov_D87Y3VY"
      }
    },
    {
      "cell_type": "markdown",
      "source": [
        "Obs: Comecei a exibir os autovetores na forma $\\vec{x} = (a_1/a_n, ~a_2/a_n ,\\cdots, ~1)$\n",
        "\n",
        "pois é assim que é exibido no Wolfram e outros sites que visitei. E isso não muda a direção, apenas dividi pelo escalar da ultima posição, $a_n$."
      ],
      "metadata": {
        "id": "RSsPeXyKPy2x"
      }
    },
    {
      "cell_type": "markdown",
      "source": [
        "###Testando para as matrizes:\n",
        "\n",
        "- $A_1 = \\left[\\begin{array}{c c c}\n",
        "5 & 2 & 1\\\\\n",
        "2 & 3 & 1\\\\\n",
        "1 & 1 & 2\n",
        "\\end{array}\\right]$\n",
        "\n",
        "- $A_2 = \\left[\\begin{array}{r r r}\n",
        "-14 & 1 & -2\\\\\n",
        "1 & -1 & 1\\\\\n",
        "-2 & 1 & -11\n",
        "\\end{array}\\right]$\n",
        "\n",
        "- $A_3 = \\left[\\begin{array}{r r r r r}\n",
        "40 & 8 & 4 & 2 & 1 \\\\\n",
        "8 & 30 & 12 & 6 & 2\\\\\n",
        "4 & 12 & 20 & 1 & 2\\\\\n",
        "2 & 6 & 1 & 25 & 4\\\\\n",
        "1 & 2 & 2 & 4 & 5\n",
        "\\end{array}\\right]$"
      ],
      "metadata": {
        "id": "BzpxZ5aERAaP"
      }
    },
    {
      "cell_type": "code",
      "source": [
        "rnd = lambda x: round(x, 5)\n",
        "As = {1:np.array([\n",
        "       [5, 2, 1],\n",
        "       [2, 3, 1], \n",
        "       [1, 1, 2]\n",
        "       ]),\n",
        "     2: np.array([\n",
        "       [-14, 1, -2],\n",
        "       [1, -1,   1], \n",
        "       [-2, 1, -11]\n",
        "       ]),\n",
        "     3:np.array([\n",
        "       [40, 8, 4, 2, 1],\n",
        "       [8, 30, 12, 6, 2],\n",
        "       [4, 12, 20, 1, 2],\n",
        "       [2, 6, 1, 25, 4],\n",
        "       [1, 2, 2, 4, 5]\n",
        "      ])\n",
        "     }"
      ],
      "metadata": {
        "id": "kMNrzDwV6Wse"
      },
      "execution_count": 84,
      "outputs": []
    },
    {
      "cell_type": "markdown",
      "source": [
        "## HouseHolder"
      ],
      "metadata": {
        "id": "oARed0TDIduA"
      }
    },
    {
      "cell_type": "code",
      "source": [
        "def constHH(Aold : np.ndarray, j : int, m : int)->np.ndarray:\n",
        "  v = np.zeros(m)\n",
        "  vl = np.zeros(m)\n",
        "  for k in range(j+1, m):\n",
        "    v[k]=Aold[k][j]\n",
        "  Lv = (v.T@v)**(1/2) # ||v||_2\n",
        "  vl[j+1]=Lv\n",
        "  N=v-vl\n",
        "  n=N/((N.T@N)**(1/2)) # ||N||_2\n",
        "  Hj=np.identity(m)-2*np.outer(n, n.T) # Produto externo\n",
        "  return Hj\n",
        "\n",
        "def metodoHH(A:np.ndarray, e=1e-10)->tuple[np.ndarray, np.ndarray]:\n",
        "  n, m = len(A), len(A[0])\n",
        "  T = A.copy() # \"A_old\"\n",
        "  H = np.identity(n)\n",
        "  for j in range(m-2):\n",
        "    Hj = constHH(T, j, m)\n",
        "    Anew = Hj@T@Hj\n",
        "    T = Anew.copy()\n",
        "    H = H@Hj\n",
        "  \n",
        "  # e é o limite que o valor será considerado zero\n",
        "  # (pois sobra alguns restos de arredondamento na T)\n",
        "  for i in range(n):\n",
        "    for j in range(m):\n",
        "        if abs(T[i][j]) < e:\n",
        "          T[i][j]=0\n",
        "\n",
        "  return T, H"
      ],
      "metadata": {
        "id": "YFPznQ9uaLzs"
      },
      "execution_count": 85,
      "outputs": []
    },
    {
      "cell_type": "code",
      "source": [
        "rnd = lambda x: round(x, 5)\n",
        "A = As[3]\n",
        "\n",
        "T, H = metodoHH(A)\n",
        "display(Latex(r'\\bar{A} = '))\n",
        "print(tabulate(T, tablefmt='fancy_grid'))\n",
        "print('H = ')\n",
        "print(tabulate(H, tablefmt='fancy_grid'))\n",
        "\n",
        "\n",
        "r = tryAll(T)\n",
        "l='$'\n",
        "for i, (x, lamb) in enumerate(r.values()):\n",
        "  x=list(map(rnd, x))\n",
        "  lamb=rnd(lamb)\n",
        "  l += f'\\lambda_{i+1}={lamb}, ~~'\n",
        "  display(Latex(r'\\bar{x}_'+f'{i+1}={x}'))\n",
        "l+='$'\n",
        "display(Latex(l))\n",
        "print('Como podemos observar, os autovalores são iguais ao problema original,'+\n",
        "      '\\nmas os autovetores não, para obterlos vamos pré-multiplicar por H.')\n",
        "for i, (x, lamb) in enumerate(r.values()):\n",
        "  x=H@x\n",
        "  x=list(map(rnd, x/x[-1]))\n",
        "  display(Latex(r'H\\bar{x}_'+f'{i+1}={x} ='+r'x_'+f'{i+1}'))\n",
        "\n",
        "print('\\nCalculando direto no problema original:')\n",
        "r = tryAll(A)\n",
        "print(tabulate(A, tablefmt='grid'))\n",
        "l='$'\n",
        "for i, (x, lamb) in enumerate(r.values()):\n",
        "  x=list(map(rnd, x))\n",
        "  lamb=rnd(lamb)\n",
        "  l += f'\\lambda_{i+1}={lamb}, ~~'\n",
        "  display(Latex(f'x_{i+1}={x}'))\n",
        "l+='$'\n",
        "display(Latex(l))"
      ],
      "metadata": {
        "colab": {
          "base_uri": "https://localhost:8080/",
          "height": 1000
        },
        "id": "vcxvxOiuzi6f",
        "outputId": "91d554d4-b5c1-4561-ed2e-86c236076b63"
      },
      "execution_count": 86,
      "outputs": [
        {
          "output_type": "display_data",
          "data": {
            "text/plain": [
              "<IPython.core.display.Latex object>"
            ],
            "text/latex": "\\bar{A} = "
          },
          "metadata": {}
        },
        {
          "output_type": "stream",
          "name": "stdout",
          "text": [
            "╒══════════╤══════════╤══════════╤══════════╤═════════╕\n",
            "│ 40       │  9.21954 │  0       │  0       │ 0       │\n",
            "├──────────┼──────────┼──────────┼──────────┼─────────┤\n",
            "│  9.21954 │ 39.8235  │  4.06759 │  0       │ 0       │\n",
            "├──────────┼──────────┼──────────┼──────────┼─────────┤\n",
            "│  0       │  4.06759 │ 15.0687  │  6.29137 │ 0       │\n",
            "├──────────┼──────────┼──────────┼──────────┼─────────┤\n",
            "│  0       │  0       │  6.29137 │ 17.59    │ 5.86698 │\n",
            "├──────────┼──────────┼──────────┼──────────┼─────────┤\n",
            "│  0       │  0       │  0       │  5.86698 │ 7.51779 │\n",
            "╘══════════╧══════════╧══════════╧══════════╧═════════╛\n",
            "H = \n",
            "╒═══╤══════════╤════════════╤════════════╤═══════════╕\n",
            "│ 1 │ 0        │  0         │  0         │  0        │\n",
            "├───┼──────────┼────────────┼────────────┼───────────┤\n",
            "│ 0 │ 0.867722 │ -0.442337  │  0.0885626 │  0.208695 │\n",
            "├───┼──────────┼────────────┼────────────┼───────────┤\n",
            "│ 0 │ 0.433861 │  0.552137  │ -0.603674  │ -0.377475 │\n",
            "├───┼──────────┼────────────┼────────────┼───────────┤\n",
            "│ 0 │ 0.21693  │  0.702719  │  0.587068  │  0.338345 │\n",
            "├───┼──────────┼────────────┼────────────┼───────────┤\n",
            "│ 0 │ 0.108465 │ -0.0752914 │  0.532058  │ -0.83635  │\n",
            "╘═══╧══════════╧════════════╧════════════╧═══════════╛\n"
          ]
        },
        {
          "output_type": "display_data",
          "data": {
            "text/plain": [
              "<IPython.core.display.Latex object>"
            ],
            "text/latex": "\\bar{x}_1=[279.12946, 284.19912, 35.00593, 7.12088, 1.0]"
          },
          "metadata": {}
        },
        {
          "output_type": "display_data",
          "data": {
            "text/plain": [
              "<IPython.core.display.Latex object>"
            ],
            "text/latex": "\\bar{x}_2=[-26.86116, 25.3119, 7.90986, 4.05496, 1.0]"
          },
          "metadata": {}
        },
        {
          "output_type": "display_data",
          "data": {
            "text/plain": [
              "<IPython.core.display.Latex object>"
            ],
            "text/latex": "\\bar{x}_3=[0.35798, -0.63516, 1.71493, 2.74935, 1.0]"
          },
          "metadata": {}
        },
        {
          "output_type": "display_data",
          "data": {
            "text/plain": [
              "<IPython.core.display.Latex object>"
            ],
            "text/latex": "\\bar{x}_4=[-0.08387, 0.25796, -1.59714, 0.70303, 1.0]"
          },
          "metadata": {}
        },
        {
          "output_type": "display_data",
          "data": {
            "text/plain": [
              "<IPython.core.display.Latex object>"
            ],
            "text/latex": "\\bar{x}_5=[0.01108, -0.04325, 0.35568, -0.59702, 1.0]"
          },
          "metadata": {}
        },
        {
          "output_type": "display_data",
          "data": {
            "text/plain": [
              "<IPython.core.display.Latex object>"
            ],
            "text/latex": "$\\lambda_1=49.38314, ~~\\lambda_2=31.31147, ~~\\lambda_3=23.64808, ~~\\lambda_4=11.64243, ~~\\lambda_5=4.01488, ~~$"
          },
          "metadata": {}
        },
        {
          "output_type": "stream",
          "name": "stdout",
          "text": [
            "Como podemos observar, os autovalores são iguais ao problema original,\n",
            "mas os autovetores não, para obterlos vamos pré-multiplicar por H.\n"
          ]
        },
        {
          "output_type": "display_data",
          "data": {
            "text/plain": [
              "<IPython.core.display.Latex object>"
            ],
            "text/latex": "H\\bar{x}_1=[8.96299, 7.44838, 4.4298, 2.91466, 1.0] =x_1"
          },
          "metadata": {}
        },
        {
          "output_type": "display_data",
          "data": {
            "text/plain": [
              "<IPython.core.display.Latex object>"
            ],
            "text/latex": "H\\bar{x}_2=[-7.73864, 5.48328, 3.60809, 3.9666, 1.0] =x_2"
          },
          "metadata": {}
        },
        {
          "output_type": "display_data",
          "data": {
            "text/plain": [
              "<IPython.core.display.Latex object>"
            ],
            "text/latex": "H\\bar{x}_3=[0.83552, -2.00146, -3.18795, 7.04802, 1.0] =x_3"
          },
          "metadata": {}
        },
        {
          "output_type": "display_data",
          "data": {
            "text/plain": [
              "<IPython.core.display.Latex object>"
            ],
            "text/latex": "H\\bar{x}_4=[0.26704, -3.82487, 5.00462, 1.00395, 1.0] =x_4"
          },
          "metadata": {}
        },
        {
          "output_type": "display_data",
          "data": {
            "text/plain": [
              "<IPython.core.display.Latex object>"
            ],
            "text/latex": "H\\bar{x}_5=[-0.00935, 0.03294, -0.13543, -0.19268, 1.0] =x_5"
          },
          "metadata": {}
        },
        {
          "output_type": "stream",
          "name": "stdout",
          "text": [
            "\n",
            "Calculando direto no problema original:\n",
            "+----+----+----+----+---+\n",
            "| 40 |  8 |  4 |  2 | 1 |\n",
            "+----+----+----+----+---+\n",
            "|  8 | 30 | 12 |  6 | 2 |\n",
            "+----+----+----+----+---+\n",
            "|  4 | 12 | 20 |  1 | 2 |\n",
            "+----+----+----+----+---+\n",
            "|  2 |  6 |  1 | 25 | 4 |\n",
            "+----+----+----+----+---+\n",
            "|  1 |  2 |  2 |  4 | 5 |\n",
            "+----+----+----+----+---+\n"
          ]
        },
        {
          "output_type": "display_data",
          "data": {
            "text/plain": [
              "<IPython.core.display.Latex object>"
            ],
            "text/latex": "x_1=[8.96334, 7.44861, 4.42998, 2.91456, 1.0]"
          },
          "metadata": {}
        },
        {
          "output_type": "display_data",
          "data": {
            "text/plain": [
              "<IPython.core.display.Latex object>"
            ],
            "text/latex": "x_2=[-7.73883, 5.48363, 3.60839, 3.96645, 1.0]"
          },
          "metadata": {}
        },
        {
          "output_type": "display_data",
          "data": {
            "text/plain": [
              "<IPython.core.display.Latex object>"
            ],
            "text/latex": "x_3=[0.83536, -2.00133, -3.18783, 7.04796, 1.0]"
          },
          "metadata": {}
        },
        {
          "output_type": "display_data",
          "data": {
            "text/plain": [
              "<IPython.core.display.Latex object>"
            ],
            "text/latex": "x_4=[0.26703, -3.8247, 5.00436, 1.00394, 1.0]"
          },
          "metadata": {}
        },
        {
          "output_type": "display_data",
          "data": {
            "text/plain": [
              "<IPython.core.display.Latex object>"
            ],
            "text/latex": "x_5=[-0.00935, 0.03295, -0.13545, -0.19269, 1.0]"
          },
          "metadata": {}
        },
        {
          "output_type": "display_data",
          "data": {
            "text/plain": [
              "<IPython.core.display.Latex object>"
            ],
            "text/latex": "$\\lambda_1=49.38314, ~~\\lambda_2=31.31147, ~~\\lambda_3=23.64808, ~~\\lambda_4=11.64243, ~~\\lambda_5=4.01488, ~~$"
          },
          "metadata": {}
        }
      ]
    },
    {
      "cell_type": "markdown",
      "source": [
        "Apos pré-multiplicarmos os $\\bar{x}_i$ pela $H$, obtemos os $x_i$ da matriz original."
      ],
      "metadata": {
        "id": "TkpQ0Mbz_Fk9"
      }
    },
    {
      "cell_type": "markdown",
      "source": [
        "## QR"
      ],
      "metadata": {
        "id": "VV9NuoVhTuyW"
      }
    },
    {
      "cell_type": "code",
      "source": [
        "def constQ(a_jj : float, a_ij : float, j : int, m : int)->np.ndarray:\n",
        "  Qj = np.identity(m)\n",
        "  Qj[j][j]=a_jj/np.sqrt(a_ij**2 + a_jj**2) #cos(theta)\n",
        "  Qj[j][j+1]=-a_ij/np.sqrt(a_ij**2 + a_jj**2) #-sen(theta)\n",
        "\n",
        "  Qj[j+1][j]=a_ij/np.sqrt(a_ij**2 + a_jj**2) #sen(theta)\n",
        "  Qj[j+1][j+1]=a_jj/np.sqrt(a_ij**2 + a_jj**2) #cos(theta)\n",
        "\n",
        "  return Qj #Qj.T é Matriz de rotação para zerar 1 elemento abaixo da diagonal na coluna j.\n",
        "\n",
        "def decompQR(A : np.ndarray, m: int) -> tuple[np.ndarray, np.ndarray]: #->(Q, R)\n",
        "  R, Q = A.copy(), np.identity(m)\n",
        "  for j in range(m-1):\n",
        "    Qj = constQ(R[j][j] , R[j+1][j], j, m)\n",
        "    R = Qj.T@R\n",
        "    Q = Q@Qj\n",
        "  return Q, R\n",
        "\n",
        "def metodoQR(T: np.ndarray, H:np.ndarray, e = 1e-6) -> tuple[np.ndarray, np.ndarray]: #-> (D, P)\n",
        "  lowerD = lambda A: sum((A[i][j])**2 for i in range(1, len(A)) for j in range(0, i)) #Soma dos Elementos abaixo da diagonal\n",
        "  D, P = T.copy(), H.copy()\n",
        "  val =  lowerD(D)\n",
        "  n, m = len(D), len(D[0])\n",
        "  while val > e:\n",
        "    Q, R = decompQR(D, m)\n",
        "    D = R@Q\n",
        "    P = P@Q\n",
        "    val = lowerD(D)\n",
        "  lamb = np.array([D[i][i] for i in range(m)])\n",
        "\n",
        "  #Deixando os autovetores na mesma forma que o wolfram deixa\n",
        "  for i in range(n): \n",
        "    for j in range(m):\n",
        "      P[i][j]=P[i][j]/P[n-1][j]\n",
        "                    \n",
        "  return P, lamb"
      ],
      "metadata": {
        "id": "MmAcP8FjTxJc"
      },
      "execution_count": 87,
      "outputs": []
    },
    {
      "cell_type": "code",
      "source": [
        "for i in As.keys():\n",
        "  A = As[i]\n",
        "  T, H = metodoHH(A)\n",
        "  P, lamb = metodoQR(T, H)\n",
        "  print('Matriz A:')\n",
        "  print(tabulate(A, tablefmt='fancy_grid'))\n",
        "  print('Matriz T(depois do HouseHolder):')\n",
        "  print(tabulate(T, tablefmt='fancy_grid'))\n",
        "  print('Matriz dos autovetores P(depois do QR):')\n",
        "  print(tabulate(P, tablefmt='fancy_grid'))\n",
        "  print('Vetor dos autovalores:')\n",
        "  print(list(lamb))\n",
        "  print(10*'-----//-----')"
      ],
      "metadata": {
        "colab": {
          "base_uri": "https://localhost:8080/"
        },
        "id": "nUEe4_983d9l",
        "outputId": "07780ec2-680e-4c32-f6a1-efe02d558fdc"
      },
      "execution_count": 88,
      "outputs": [
        {
          "output_type": "stream",
          "name": "stdout",
          "text": [
            "Matriz A:\n",
            "╒═══╤═══╤═══╕\n",
            "│ 5 │ 2 │ 1 │\n",
            "├───┼───┼───┤\n",
            "│ 2 │ 3 │ 1 │\n",
            "├───┼───┼───┤\n",
            "│ 1 │ 1 │ 2 │\n",
            "╘═══╧═══╧═══╛\n",
            "Matriz T(depois do HouseHolder):\n",
            "╒═════════╤══════════╤══════╕\n",
            "│ 5       │  2.23607 │  0   │\n",
            "├─────────┼──────────┼──────┤\n",
            "│ 2.23607 │  3.6     │ -0.2 │\n",
            "├─────────┼──────────┼──────┤\n",
            "│ 0       │ -0.2     │  1.4 │\n",
            "╘═════════╧══════════╧══════╛\n",
            "Matriz dos autovetores P(depois do QR):\n",
            "╒═════════╤══════════╤═══════════╕\n",
            "│ 2.82288 │ -1.00178 │  0.176114 │\n",
            "├─────────┼──────────┼───────────┤\n",
            "│ 1.82288 │  1.00275 │ -0.821311 │\n",
            "├─────────┼──────────┼───────────┤\n",
            "│ 1       │  1       │  1        │\n",
            "╘═════════╧══════════╧═══════════╛\n",
            "Vetor dos autovalores:\n",
            "[6.64575131106458, 1.9999991626822762, 1.3542495262531382]\n",
            "-----//----------//----------//----------//----------//----------//----------//----------//----------//----------//-----\n",
            "Matriz A:\n",
            "╒═════╤════╤═════╕\n",
            "│ -14 │  1 │  -2 │\n",
            "├─────┼────┼─────┤\n",
            "│   1 │ -1 │   1 │\n",
            "├─────┼────┼─────┤\n",
            "│  -2 │  1 │ -11 │\n",
            "╘═════╧════╧═════╛\n",
            "Matriz T(depois do HouseHolder):\n",
            "╒═══════════╤══════════╤══════╕\n",
            "│ -14       │  2.23607 │  0   │\n",
            "├───────────┼──────────┼──────┤\n",
            "│   2.23607 │ -9.8     │ -3.4 │\n",
            "├───────────┼──────────┼──────┤\n",
            "│   0       │ -3.4     │ -2.2 │\n",
            "╘═══════════╧══════════╧══════╛\n",
            "Matriz dos autovetores P(depois do QR):\n",
            "╒═══════════╤═══════════╤═══════════╕\n",
            "│  1.95982  │ -0.515986 │  0.730919 │\n",
            "├───────────┼───────────┼───────────┤\n",
            "│ -0.209498 │ -0.053644 │ 11.6109   │\n",
            "├───────────┼───────────┼───────────┤\n",
            "│  1        │  1        │  1        │\n",
            "╘═══════════╧═══════════╧═══════════╛\n",
            "Vetor dos autovalores:\n",
            "[-15.127761343084806, -10.021315565454255, -0.8509230914609183]\n",
            "-----//----------//----------//----------//----------//----------//----------//----------//----------//----------//-----\n",
            "Matriz A:\n",
            "╒════╤════╤════╤════╤═══╕\n",
            "│ 40 │  8 │  4 │  2 │ 1 │\n",
            "├────┼────┼────┼────┼───┤\n",
            "│  8 │ 30 │ 12 │  6 │ 2 │\n",
            "├────┼────┼────┼────┼───┤\n",
            "│  4 │ 12 │ 20 │  1 │ 2 │\n",
            "├────┼────┼────┼────┼───┤\n",
            "│  2 │  6 │  1 │ 25 │ 4 │\n",
            "├────┼────┼────┼────┼───┤\n",
            "│  1 │  2 │  2 │  4 │ 5 │\n",
            "╘════╧════╧════╧════╧═══╛\n",
            "Matriz T(depois do HouseHolder):\n",
            "╒══════════╤══════════╤══════════╤══════════╤═════════╕\n",
            "│ 40       │  9.21954 │  0       │  0       │ 0       │\n",
            "├──────────┼──────────┼──────────┼──────────┼─────────┤\n",
            "│  9.21954 │ 39.8235  │  4.06759 │  0       │ 0       │\n",
            "├──────────┼──────────┼──────────┼──────────┼─────────┤\n",
            "│  0       │  4.06759 │ 15.0687  │  6.29137 │ 0       │\n",
            "├──────────┼──────────┼──────────┼──────────┼─────────┤\n",
            "│  0       │  0       │  6.29137 │ 17.59    │ 5.86698 │\n",
            "├──────────┼──────────┼──────────┼──────────┼─────────┤\n",
            "│  0       │  0       │  0       │  5.86698 │ 7.51779 │\n",
            "╘══════════╧══════════╧══════════╧══════════╧═════════╛\n",
            "Matriz dos autovetores P(depois do QR):\n",
            "╒═════════╤══════════╤═══════════╤═══════════╤═════════════╕\n",
            "│ 8.96747 │ -7.7397  │  0.835592 │  0.267043 │ -0.00934982 │\n",
            "├─────────┼──────────┼───────────┼───────────┼─────────────┤\n",
            "│ 7.44912 │  5.48482 │ -2.00153  │ -3.8249   │  0.032963   │\n",
            "├─────────┼──────────┼───────────┼───────────┼─────────────┤\n",
            "│ 4.4302  │  3.60945 │ -3.18801  │  5.00464  │ -0.135468   │\n",
            "├─────────┼──────────┼───────────┼───────────┼─────────────┤\n",
            "│ 2.91429 │  3.96595 │  7.04804  │  1.00398  │ -0.192689   │\n",
            "├─────────┼──────────┼───────────┼───────────┼─────────────┤\n",
            "│ 1       │  1       │  1        │  1        │  1          │\n",
            "╘═════════╧══════════╧═══════════╧═══════════╧═════════════╛\n",
            "Vetor dos autovalores:\n",
            "[49.38314594416223, 31.31146517444995, 23.648079561606718, 11.642426377385588, 4.014882942395326]\n",
            "-----//----------//----------//----------//----------//----------//----------//----------//----------//----------//-----\n"
          ]
        }
      ]
    }
  ]
}